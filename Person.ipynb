{
  "nbformat": 4,
  "nbformat_minor": 0,
  "metadata": {
    "colab": {
      "provenance": []
    },
    "kernelspec": {
      "name": "python3",
      "display_name": "Python 3"
    },
    "language_info": {
      "name": "python"
    }
  },
  "cells": [
    {
      "cell_type": "code",
      "execution_count": 1,
      "metadata": {
        "colab": {
          "base_uri": "https://localhost:8080/"
        },
        "id": "FiSA2md8oo5I",
        "outputId": "8a8b69ba-8dad-4964-b7e3-aa839f614e6a"
      },
      "outputs": [
        {
          "output_type": "stream",
          "name": "stdout",
          "text": [
            "Hello, my name is John. I am 30 years old and I am male.\n"
          ]
        }
      ],
      "source": [
        "class Person:\n",
        "    def __init__(self, name, age, gender):\n",
        "        self.name = name\n",
        "        self.age = age\n",
        "        self.gender = gender\n",
        "\n",
        "    def introduce(self):\n",
        "        print(f\"Hello, my name is {self.name}. I am {self.age} years old and I am {self.gender}.\")\n",
        "\n",
        "# Create an instance of the Person class\n",
        "person1 = Person(\"John\", 30, \"male\")\n",
        "\n",
        "# Call the introduce method to display the person's information\n",
        "person1.introduce()\n"
      ]
    }
  ]
}